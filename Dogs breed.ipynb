{
 "cells": [
  {
   "cell_type": "markdown",
   "id": "851ccb88-9cbd-4825-ae76-25d423623f00",
   "metadata": {},
   "source": [
    "# *Questions* :-"
   ]
  },
  {
   "cell_type": "markdown",
   "id": "0ab8e732-ced1-4375-84cb-8be2ceea6a97",
   "metadata": {},
   "source": [
    "1. Basic exploration :\n",
    "   1. How many unique breed groups and sizes are in the dataset?\n",
    "   2. What is the average lifespan of all breeds combined?"
   ]
  },
  {
   "cell_type": "markdown",
   "id": "04c7ab0e-e216-4fed-8287-a4daf9c046e2",
   "metadata": {},
   "source": [
    "2. Grouping & Aggregation :\n",
    "   3. Which breed group has the highest average friendliness score?\n",
    "   4. What is the average energy level for each breed size (small, medium, large)?\n",
    "   5. Which country has the most number of breeds in this dataset?"
   ]
  },
  {
   "cell_type": "markdown",
   "id": "02ca5de3-78c6-433c-859d-685ff71c9e96",
   "metadata": {},
   "source": [
    "3. Sorting & Filtering :\n",
    "   6. Which 3 breeds have the longest lifespan?\n",
    "   7. List all breeds with trainability score of 5 and shedding ≤ 2."
   ]
  },
  {
   "cell_type": "markdown",
   "id": "b196c41b-07b6-461e-9306-31a04a503e1f",
   "metadata": {},
   "source": [
    "4. Visualizations :\n",
    "    8. Plot a bar chart of average lifespan for each breed group.\n",
    "    9. Create a heatmap showing correlation among numerical traits.\n",
    "    10. Plot a boxplot comparing barking levels across different sizes.\n",
    "    11. Plot a scatterplot of trainability vs energy level, color-coded by size."
   ]
  },
  {
   "cell_type": "markdown",
   "id": "251d1550-e60f-4e9b-b142-88b1a6d24f46",
   "metadata": {},
   "source": [
    "5. Combining Logic :\n",
    "   12. Find all breeds that are both highly friendly (≥4) and low shedding (≤2).\n",
    "   12. Find the top 3 most trainable breeds from non-sporting group.\n",
    "   13. Create a column family_friendly_score as: friendliness + trainability - barking. Then sort top 5 breeds.\n",
    "   14. Find the correlation between trainability and lifespan.\n",
    "   15. Create a total_score for each breed. Formula: friendliness + trainability + energy_level – barking.\n",
    "   16. Which origin country produces the most high-trainability dogs (score ≥ 4).\n",
    "   17. Plot: Average trait scores (friendliness, trainability, energy) for each size.\n",
    "   18. Create a column apartment_friendly. Dogs that are: size = small or medium, barking ≤ 3 and energy_level ≤ 4.\n",
    "   20. Which breed group has the most “balanced” breeds? Balanced = all 3 traits (friendliness, energy, trainability) between 3 and 4 inclusive.\n",
    "   21. Cluster breeds manually by score ranges (Low, Medium, High) for total_score."
   ]
  },
  {
   "cell_type": "markdown",
   "id": "16e22969-c8ab-4383-807e-55f07edb97c0",
   "metadata": {},
   "source": [
    "___"
   ]
  },
  {
   "cell_type": "markdown",
   "id": "c22a5510-0d5d-40dc-b536-ca28c6885cef",
   "metadata": {},
   "source": [
    "#\n"
   ]
  },
  {
   "cell_type": "markdown",
   "id": "f501f147-ce14-4ea5-b3f4-216ee5c8e2a0",
   "metadata": {},
   "source": [
    "# IMPORTING LIBRARIES"
   ]
  },
  {
   "cell_type": "code",
   "execution_count": 2,
   "id": "9d545fa4-77e3-478a-bdab-1097eb3be326",
   "metadata": {},
   "outputs": [],
   "source": [
    "import pandas as pd\n",
    "import seaborn as sns\n",
    "import matplotlib.pyplot as plt"
   ]
  },
  {
   "cell_type": "markdown",
   "id": "bce08c52-6b66-48ac-9843-09b363e178eb",
   "metadata": {},
   "source": [
    "#\n"
   ]
  },
  {
   "cell_type": "code",
   "execution_count": 3,
   "id": "997241dd-d3e6-4593-9273-ad8317fdef06",
   "metadata": {},
   "outputs": [
    {
     "data": {
      "text/html": [
       "<div>\n",
       "<style scoped>\n",
       "    .dataframe tbody tr th:only-of-type {\n",
       "        vertical-align: middle;\n",
       "    }\n",
       "\n",
       "    .dataframe tbody tr th {\n",
       "        vertical-align: top;\n",
       "    }\n",
       "\n",
       "    .dataframe thead th {\n",
       "        text-align: right;\n",
       "    }\n",
       "</style>\n",
       "<table border=\"1\" class=\"dataframe\">\n",
       "  <thead>\n",
       "    <tr style=\"text-align: right;\">\n",
       "      <th></th>\n",
       "      <th>energy_level</th>\n",
       "      <th>friendliness</th>\n",
       "      <th>trainability</th>\n",
       "      <th>shedding</th>\n",
       "      <th>barking</th>\n",
       "      <th>lifespan</th>\n",
       "    </tr>\n",
       "  </thead>\n",
       "  <tbody>\n",
       "    <tr>\n",
       "      <th>count</th>\n",
       "      <td>20.000000</td>\n",
       "      <td>20.000000</td>\n",
       "      <td>20.000000</td>\n",
       "      <td>20.000000</td>\n",
       "      <td>20.000000</td>\n",
       "      <td>20.000000</td>\n",
       "    </tr>\n",
       "    <tr>\n",
       "      <th>mean</th>\n",
       "      <td>3.600000</td>\n",
       "      <td>4.400000</td>\n",
       "      <td>3.750000</td>\n",
       "      <td>2.750000</td>\n",
       "      <td>3.250000</td>\n",
       "      <td>12.100000</td>\n",
       "    </tr>\n",
       "    <tr>\n",
       "      <th>std</th>\n",
       "      <td>1.142481</td>\n",
       "      <td>0.680557</td>\n",
       "      <td>1.019546</td>\n",
       "      <td>0.786398</td>\n",
       "      <td>1.069924</td>\n",
       "      <td>1.889026</td>\n",
       "    </tr>\n",
       "    <tr>\n",
       "      <th>min</th>\n",
       "      <td>2.000000</td>\n",
       "      <td>3.000000</td>\n",
       "      <td>2.000000</td>\n",
       "      <td>1.000000</td>\n",
       "      <td>2.000000</td>\n",
       "      <td>8.000000</td>\n",
       "    </tr>\n",
       "    <tr>\n",
       "      <th>25%</th>\n",
       "      <td>3.000000</td>\n",
       "      <td>4.000000</td>\n",
       "      <td>3.000000</td>\n",
       "      <td>2.000000</td>\n",
       "      <td>2.000000</td>\n",
       "      <td>10.750000</td>\n",
       "    </tr>\n",
       "    <tr>\n",
       "      <th>50%</th>\n",
       "      <td>3.500000</td>\n",
       "      <td>4.500000</td>\n",
       "      <td>4.000000</td>\n",
       "      <td>3.000000</td>\n",
       "      <td>3.000000</td>\n",
       "      <td>12.500000</td>\n",
       "    </tr>\n",
       "    <tr>\n",
       "      <th>75%</th>\n",
       "      <td>5.000000</td>\n",
       "      <td>5.000000</td>\n",
       "      <td>5.000000</td>\n",
       "      <td>3.000000</td>\n",
       "      <td>4.000000</td>\n",
       "      <td>13.250000</td>\n",
       "    </tr>\n",
       "    <tr>\n",
       "      <th>max</th>\n",
       "      <td>5.000000</td>\n",
       "      <td>5.000000</td>\n",
       "      <td>5.000000</td>\n",
       "      <td>4.000000</td>\n",
       "      <td>5.000000</td>\n",
       "      <td>15.000000</td>\n",
       "    </tr>\n",
       "  </tbody>\n",
       "</table>\n",
       "</div>"
      ],
      "text/plain": [
       "       energy_level  friendliness  trainability   shedding    barking  \\\n",
       "count     20.000000     20.000000     20.000000  20.000000  20.000000   \n",
       "mean       3.600000      4.400000      3.750000   2.750000   3.250000   \n",
       "std        1.142481      0.680557      1.019546   0.786398   1.069924   \n",
       "min        2.000000      3.000000      2.000000   1.000000   2.000000   \n",
       "25%        3.000000      4.000000      3.000000   2.000000   2.000000   \n",
       "50%        3.500000      4.500000      4.000000   3.000000   3.000000   \n",
       "75%        5.000000      5.000000      5.000000   3.000000   4.000000   \n",
       "max        5.000000      5.000000      5.000000   4.000000   5.000000   \n",
       "\n",
       "        lifespan  \n",
       "count  20.000000  \n",
       "mean   12.100000  \n",
       "std     1.889026  \n",
       "min     8.000000  \n",
       "25%    10.750000  \n",
       "50%    12.500000  \n",
       "75%    13.250000  \n",
       "max    15.000000  "
      ]
     },
     "execution_count": 3,
     "metadata": {},
     "output_type": "execute_result"
    }
   ],
   "source": [
    "df= pd.read_csv(\"C:/Users/Pavilion/Downloads/dogs breed.zip\")\n",
    "df.describe()"
   ]
  },
  {
   "cell_type": "markdown",
   "id": "4dc8ab74-4364-4b54-85b0-823d10b96850",
   "metadata": {},
   "source": [
    "___"
   ]
  },
  {
   "cell_type": "code",
   "execution_count": 6,
   "id": "d6cc2574-86fa-4218-9efe-9dea5cd81dc9",
   "metadata": {},
   "outputs": [
    {
     "name": "stdout",
     "output_type": "stream",
     "text": [
      "<class 'pandas.core.frame.DataFrame'>\n",
      "RangeIndex: 20 entries, 0 to 19\n",
      "Data columns (total 10 columns):\n",
      " #   Column          Non-Null Count  Dtype \n",
      "---  ------          --------------  ----- \n",
      " 0   breed           20 non-null     object\n",
      " 1   size            20 non-null     object\n",
      " 2   energy_level    20 non-null     int64 \n",
      " 3   friendliness    20 non-null     int64 \n",
      " 4   trainability    20 non-null     int64 \n",
      " 5   shedding        20 non-null     int64 \n",
      " 6   barking         20 non-null     int64 \n",
      " 7   lifespan        20 non-null     int64 \n",
      " 8   origin_country  20 non-null     object\n",
      " 9   breed_group     20 non-null     object\n",
      "dtypes: int64(6), object(4)\n",
      "memory usage: 1.7+ KB\n"
     ]
    }
   ],
   "source": [
    "df.info()"
   ]
  },
  {
   "cell_type": "markdown",
   "id": "b23dc2c0-f9c7-4b28-88f2-2b4bb6771c79",
   "metadata": {},
   "source": [
    "___"
   ]
  },
  {
   "cell_type": "code",
   "execution_count": 4,
   "id": "7d9e9bf7-066b-41a0-a6fe-245455cc0590",
   "metadata": {},
   "outputs": [
    {
     "data": {
      "text/html": [
       "<div>\n",
       "<style scoped>\n",
       "    .dataframe tbody tr th:only-of-type {\n",
       "        vertical-align: middle;\n",
       "    }\n",
       "\n",
       "    .dataframe tbody tr th {\n",
       "        vertical-align: top;\n",
       "    }\n",
       "\n",
       "    .dataframe thead th {\n",
       "        text-align: right;\n",
       "    }\n",
       "</style>\n",
       "<table border=\"1\" class=\"dataframe\">\n",
       "  <thead>\n",
       "    <tr style=\"text-align: right;\">\n",
       "      <th></th>\n",
       "      <th>breed</th>\n",
       "      <th>size</th>\n",
       "      <th>energy_level</th>\n",
       "      <th>friendliness</th>\n",
       "      <th>trainability</th>\n",
       "      <th>shedding</th>\n",
       "      <th>barking</th>\n",
       "      <th>lifespan</th>\n",
       "      <th>origin_country</th>\n",
       "      <th>breed_group</th>\n",
       "    </tr>\n",
       "  </thead>\n",
       "  <tbody>\n",
       "    <tr>\n",
       "      <th>0</th>\n",
       "      <td>Labrador Retriever</td>\n",
       "      <td>large</td>\n",
       "      <td>5</td>\n",
       "      <td>5</td>\n",
       "      <td>5</td>\n",
       "      <td>3</td>\n",
       "      <td>3</td>\n",
       "      <td>12</td>\n",
       "      <td>Canada</td>\n",
       "      <td>sporting</td>\n",
       "    </tr>\n",
       "    <tr>\n",
       "      <th>1</th>\n",
       "      <td>Chihuahua</td>\n",
       "      <td>small</td>\n",
       "      <td>4</td>\n",
       "      <td>3</td>\n",
       "      <td>2</td>\n",
       "      <td>2</td>\n",
       "      <td>5</td>\n",
       "      <td>14</td>\n",
       "      <td>Mexico</td>\n",
       "      <td>toy</td>\n",
       "    </tr>\n",
       "    <tr>\n",
       "      <th>2</th>\n",
       "      <td>German Shepherd</td>\n",
       "      <td>large</td>\n",
       "      <td>5</td>\n",
       "      <td>4</td>\n",
       "      <td>5</td>\n",
       "      <td>4</td>\n",
       "      <td>4</td>\n",
       "      <td>10</td>\n",
       "      <td>Germany</td>\n",
       "      <td>herding</td>\n",
       "    </tr>\n",
       "    <tr>\n",
       "      <th>3</th>\n",
       "      <td>Beagle</td>\n",
       "      <td>medium</td>\n",
       "      <td>4</td>\n",
       "      <td>5</td>\n",
       "      <td>3</td>\n",
       "      <td>3</td>\n",
       "      <td>5</td>\n",
       "      <td>13</td>\n",
       "      <td>England</td>\n",
       "      <td>hound</td>\n",
       "    </tr>\n",
       "    <tr>\n",
       "      <th>4</th>\n",
       "      <td>Poodle (Standard)</td>\n",
       "      <td>medium</td>\n",
       "      <td>3</td>\n",
       "      <td>5</td>\n",
       "      <td>5</td>\n",
       "      <td>2</td>\n",
       "      <td>2</td>\n",
       "      <td>14</td>\n",
       "      <td>Germany/France</td>\n",
       "      <td>non-sporting</td>\n",
       "    </tr>\n",
       "  </tbody>\n",
       "</table>\n",
       "</div>"
      ],
      "text/plain": [
       "                breed    size  energy_level  friendliness  trainability  \\\n",
       "0  Labrador Retriever   large             5             5             5   \n",
       "1           Chihuahua   small             4             3             2   \n",
       "2     German Shepherd   large             5             4             5   \n",
       "3              Beagle  medium             4             5             3   \n",
       "4   Poodle (Standard)  medium             3             5             5   \n",
       "\n",
       "   shedding  barking  lifespan  origin_country   breed_group  \n",
       "0         3        3        12          Canada      sporting  \n",
       "1         2        5        14          Mexico           toy  \n",
       "2         4        4        10         Germany       herding  \n",
       "3         3        5        13         England         hound  \n",
       "4         2        2        14  Germany/France  non-sporting  "
      ]
     },
     "execution_count": 4,
     "metadata": {},
     "output_type": "execute_result"
    }
   ],
   "source": [
    "df.head(5)"
   ]
  },
  {
   "cell_type": "markdown",
   "id": "399fb289-94fe-4d95-895e-6f117dcac263",
   "metadata": {},
   "source": [
    "___"
   ]
  },
  {
   "cell_type": "code",
   "execution_count": 6,
   "id": "65d5c8b2-ab33-40dc-acd0-a501185836fd",
   "metadata": {},
   "outputs": [
    {
     "data": {
      "text/plain": [
       "(20, 10)"
      ]
     },
     "execution_count": 6,
     "metadata": {},
     "output_type": "execute_result"
    }
   ],
   "source": [
    "df.shape"
   ]
  },
  {
   "cell_type": "markdown",
   "id": "5404326b-fcd7-4f23-af33-055bc85502d5",
   "metadata": {},
   "source": [
    "*In the dataset, there are total 20 rows and 10 columns.* "
   ]
  },
  {
   "cell_type": "markdown",
   "id": "67d4d453-233c-4492-a2f8-1b718ddfc092",
   "metadata": {},
   "source": [
    "___"
   ]
  },
  {
   "cell_type": "markdown",
   "id": "c30c4cf9-58c2-4e38-83e3-97c9adcf6080",
   "metadata": {},
   "source": [
    "#"
   ]
  },
  {
   "cell_type": "markdown",
   "id": "084c42d2-9ebf-451b-a804-efc7fafe9a9d",
   "metadata": {},
   "source": [
    "# **1) Basic Exploration :-**"
   ]
  },
  {
   "cell_type": "markdown",
   "id": "4883f451-3207-4ee3-af2a-3f58b391d70f",
   "metadata": {},
   "source": [
    "**A.** How many unique breed groups and sizes are in the dataset?"
   ]
  },
  {
   "cell_type": "code",
   "execution_count": 11,
   "id": "b398fda6-ef40-449d-bfbf-7f216e758e21",
   "metadata": {},
   "outputs": [
    {
     "data": {
      "text/plain": [
       "breed_group    6\n",
       "size           3\n",
       "dtype: int64"
      ]
     },
     "execution_count": 11,
     "metadata": {},
     "output_type": "execute_result"
    }
   ],
   "source": [
    "df[['breed_group', 'size']].nunique()"
   ]
  },
  {
   "cell_type": "markdown",
   "id": "254a2fc1-1240-41f5-8d59-11285926ccaf",
   "metadata": {},
   "source": [
    "*There are **20** unique breed groups and **3** unique sizes in the dataset.*"
   ]
  },
  {
   "cell_type": "markdown",
   "id": "24a0faf0-434e-4a5d-a217-2879c60fade0",
   "metadata": {},
   "source": [
    "___"
   ]
  },
  {
   "cell_type": "markdown",
   "id": "81e530be-f034-4641-9137-67b00a9bc526",
   "metadata": {},
   "source": [
    "**B.** What is the average lifespan of all breeds combined?"
   ]
  },
  {
   "cell_type": "code",
   "execution_count": 8,
   "id": "fc5c0be8-0c51-4098-9185-63b277c4482e",
   "metadata": {},
   "outputs": [
    {
     "data": {
      "text/plain": [
       "np.float64(12.1)"
      ]
     },
     "execution_count": 8,
     "metadata": {},
     "output_type": "execute_result"
    }
   ],
   "source": [
    "df['lifespan'].mean()"
   ]
  },
  {
   "cell_type": "markdown",
   "id": "8f886f34-da51-4f3d-b475-fd4cc0cf2c9c",
   "metadata": {},
   "source": [
    "*The average lifeapan of all breeds combined is **12.1**.*"
   ]
  },
  {
   "cell_type": "markdown",
   "id": "8b61af1a-6fd2-45ac-9c0e-d49f6777ad1e",
   "metadata": {},
   "source": [
    "___"
   ]
  },
  {
   "cell_type": "markdown",
   "id": "4bbfb16c-6c03-4df7-8011-1a67facc626b",
   "metadata": {},
   "source": [
    "#\n"
   ]
  },
  {
   "cell_type": "markdown",
   "id": "797c5090-b12a-49bd-b6a2-24f7bcbe9dec",
   "metadata": {},
   "source": [
    "# **2) Grouping and Aggregation :-** "
   ]
  },
  {
   "cell_type": "markdown",
   "id": "0b124607-8cf6-40d6-88ad-03c548dbd25a",
   "metadata": {},
   "source": [
    "**C.** Which breed group has the highest average friendliness score?"
   ]
  },
  {
   "cell_type": "code",
   "execution_count": 17,
   "id": "58fa57fe-f881-40b7-ac80-5c7a340cb40a",
   "metadata": {},
   "outputs": [
    {
     "data": {
      "text/plain": [
       "breed_group\n",
       "sporting    5.0\n",
       "Name: friendliness, dtype: float64"
      ]
     },
     "execution_count": 17,
     "metadata": {},
     "output_type": "execute_result"
    }
   ],
   "source": [
    "df.groupby('breed_group')['friendliness'].mean().sort_values(ascending=False).head(1)"
   ]
  },
  {
   "cell_type": "markdown",
   "id": "585c1b00-8519-4ac3-830b-3c7f4f73ebf4",
   "metadata": {},
   "source": [
    "***Sporting** breed group has the highest average friendliness score of 5.*"
   ]
  },
  {
   "cell_type": "markdown",
   "id": "a68adb7a-dfff-423f-902e-fccbae183b94",
   "metadata": {},
   "source": [
    "___"
   ]
  },
  {
   "cell_type": "markdown",
   "id": "3603ca07-44ba-4abe-a0db-71440aca45da",
   "metadata": {},
   "source": [
    "**D.** What is the average energy level for each breed size (small, medium, large)?"
   ]
  },
  {
   "cell_type": "code",
   "execution_count": 18,
   "id": "3384c680-7ed3-4632-8adb-09b6fb4741f7",
   "metadata": {},
   "outputs": [
    {
     "data": {
      "text/plain": [
       "size\n",
       "large     4.375\n",
       "medium    3.200\n",
       "small     3.000\n",
       "Name: energy_level, dtype: float64"
      ]
     },
     "execution_count": 18,
     "metadata": {},
     "output_type": "execute_result"
    }
   ],
   "source": [
    "df.groupby('size')['energy_level'].mean()"
   ]
  },
  {
   "cell_type": "markdown",
   "id": "2d657a3c-f922-45e2-a9c7-f40ef6d19e4f",
   "metadata": {},
   "source": [
    "*The average energy level for each large breed size is- **4.375**, for medium it's-**3.200** and **3.000** is for small.*"
   ]
  },
  {
   "cell_type": "markdown",
   "id": "1c48bef4-3605-423d-90c4-8222ef42ee0e",
   "metadata": {},
   "source": [
    "___"
   ]
  },
  {
   "cell_type": "markdown",
   "id": "c6bcad42-5c92-4601-b068-93c0c2a9d5cc",
   "metadata": {},
   "source": [
    "**E.** Which country has the most number of breeds in this dataset?"
   ]
  },
  {
   "cell_type": "code",
   "execution_count": 20,
   "id": "6ea355a8-14bc-4771-9c3e-38c57f82e699",
   "metadata": {},
   "outputs": [
    {
     "data": {
      "text/plain": [
       "origin_country\n",
       "Germany    6\n",
       "Name: count, dtype: int64"
      ]
     },
     "execution_count": 20,
     "metadata": {},
     "output_type": "execute_result"
    }
   ],
   "source": [
    "df['origin_country'].value_counts().head(1)"
   ]
  },
  {
   "cell_type": "markdown",
   "id": "7f6a16c2-c89a-4952-9f90-9a203c762723",
   "metadata": {},
   "source": [
    "***Germany** has the most number of breeds in this dataset, that is **6**.*"
   ]
  },
  {
   "cell_type": "markdown",
   "id": "a9fca172-5edd-43bb-9ceb-f55b69051fb1",
   "metadata": {},
   "source": [
    "___"
   ]
  },
  {
   "cell_type": "markdown",
   "id": "a70ca140-26ed-47f8-b40c-c4a23345c4ec",
   "metadata": {},
   "source": [
    "#"
   ]
  },
  {
   "cell_type": "markdown",
   "id": "f4ad0828-f72c-4c41-b11e-b67326dfe8fa",
   "metadata": {},
   "source": [
    "# **3) Sorting and Filtering :-**"
   ]
  },
  {
   "cell_type": "markdown",
   "id": "1ebc2bf7-9893-4958-a81d-03d6358f3e7a",
   "metadata": {},
   "source": [
    "**F.** Which 3 breeds have the longest lifespan?"
   ]
  },
  {
   "cell_type": "code",
   "execution_count": 23,
   "id": "3319ac77-69b7-4136-87c5-6e65a4988989",
   "metadata": {},
   "outputs": [
    {
     "data": {
      "text/html": [
       "<div>\n",
       "<style scoped>\n",
       "    .dataframe tbody tr th:only-of-type {\n",
       "        vertical-align: middle;\n",
       "    }\n",
       "\n",
       "    .dataframe tbody tr th {\n",
       "        vertical-align: top;\n",
       "    }\n",
       "\n",
       "    .dataframe thead th {\n",
       "        text-align: right;\n",
       "    }\n",
       "</style>\n",
       "<table border=\"1\" class=\"dataframe\">\n",
       "  <thead>\n",
       "    <tr style=\"text-align: right;\">\n",
       "      <th></th>\n",
       "      <th>breed</th>\n",
       "      <th>lifespan</th>\n",
       "    </tr>\n",
       "  </thead>\n",
       "  <tbody>\n",
       "    <tr>\n",
       "      <th>19</th>\n",
       "      <td>Maltese</td>\n",
       "      <td>15</td>\n",
       "    </tr>\n",
       "    <tr>\n",
       "      <th>1</th>\n",
       "      <td>Chihuahua</td>\n",
       "      <td>14</td>\n",
       "    </tr>\n",
       "    <tr>\n",
       "      <th>4</th>\n",
       "      <td>Poodle (Standard)</td>\n",
       "      <td>14</td>\n",
       "    </tr>\n",
       "  </tbody>\n",
       "</table>\n",
       "</div>"
      ],
      "text/plain": [
       "                breed  lifespan\n",
       "19            Maltese        15\n",
       "1           Chihuahua        14\n",
       "4   Poodle (Standard)        14"
      ]
     },
     "execution_count": 23,
     "metadata": {},
     "output_type": "execute_result"
    }
   ],
   "source": [
    "df[['breed', 'lifespan']].sort_values(by='lifespan',ascending= False).head(3)"
   ]
  },
  {
   "cell_type": "markdown",
   "id": "84995ab1-afda-40e8-97cf-342e72b0f6a8",
   "metadata": {},
   "source": [
    "*The top 3 breeds with longest lifespan are- **Maltese**, **Chihuahua** and **Poodle(standard)** .*"
   ]
  },
  {
   "cell_type": "markdown",
   "id": "eab33e3e-df2b-493d-b760-0e9d4f5e89ea",
   "metadata": {},
   "source": [
    "___"
   ]
  },
  {
   "cell_type": "markdown",
   "id": "81e709c0-52a5-4464-a01e-901fdf56aca8",
   "metadata": {},
   "source": [
    "**G.** List all breeds with trainability score of 5 and shedding ≤ 2."
   ]
  },
  {
   "cell_type": "code",
   "execution_count": 12,
   "id": "5edc55f6-01e8-4b97-8129-0c3f1a72068f",
   "metadata": {},
   "outputs": [
    {
     "data": {
      "text/plain": [
       "4    Poodle (Standard)\n",
       "Name: breed, dtype: object"
      ]
     },
     "execution_count": 12,
     "metadata": {},
     "output_type": "execute_result"
    }
   ],
   "source": [
    "df['breed'].get(df['trainability']==5 ).get(df['shedding']<=2)"
   ]
  },
  {
   "cell_type": "markdown",
   "id": "92275b07-8fec-4aea-9283-035370703c1f",
   "metadata": {},
   "source": [
    "***Poodle(standard)** is the only breed with trainability score 5 and shedding <=2.*"
   ]
  },
  {
   "cell_type": "markdown",
   "id": "52c16270-4066-45d3-8b70-674f5c52fafb",
   "metadata": {},
   "source": [
    "___"
   ]
  },
  {
   "cell_type": "markdown",
   "id": "4757aaf6-f8ec-49a9-89d4-23417aa73af0",
   "metadata": {},
   "source": [
    "#"
   ]
  },
  {
   "cell_type": "markdown",
   "id": "640e748e-1ff2-4017-86bc-03c9dcd2db7f",
   "metadata": {},
   "source": [
    "# **4) Visualisations :-**"
   ]
  },
  {
   "cell_type": "markdown",
   "id": "70e75658-c578-44bb-b025-c68a8b260e91",
   "metadata": {},
   "source": [
    "**H.** Plot a bar chart of average lifespan for each breed group."
   ]
  },
  {
   "cell_type": "code",
   "execution_count": 51,
   "id": "bfb256fa-18f1-4c19-a47c-20fd4b611700",
   "metadata": {},
   "outputs": [
    {
     "data": {
      "image/png": "[encoded data removed]",
      "text/plain": [
       "<Figure size 640x480 with 1 Axes>"
      ]
     },
     "metadata": {},
     "output_type": "display_data"
    }
   ],
   "source": [
    "sns.barplot(x='breed_group', y='lifespan', data=df, estimator= 'mean')\n",
    "plt.title('Avg. lifespan foe each breed group')\n",
    "plt.show()"
   ]
  },
  {
   "cell_type": "markdown",
   "id": "0881df42-83f4-40ed-9d46-c69f91adb0e3",
   "metadata": {},
   "source": [
    "***Toy** has the highest average lifespan, followed by **Hound** .*"
   ]
  },
  {
   "cell_type": "markdown",
   "id": "51bd0acc-cb5e-4c65-936b-b1960d26dd01",
   "metadata": {},
   "source": [
    "___"
   ]
  },
  {
   "cell_type": "markdown",
   "id": "85b87c75-a457-4637-a35c-447e61d15cb6",
   "metadata": {},
   "source": [
    "**I.** Create a heatmap showing correlation among numerical traits. "
   ]
  },
  {
   "cell_type": "code",
   "execution_count": 56,
   "id": "5aa75e35-fa48-4a9c-abdd-80a86c0c0ce8",
   "metadata": {},
   "outputs": [
    {
     "data": {
      "text/plain": [
       "<Axes: >"
      ]
     },
     "execution_count": 56,
     "metadata": {},
     "output_type": "execute_result"
    },
    {
     "data": {
      "image/png": "[encoded data removed]",
      "text/plain": [
       "<Figure size 640x480 with 2 Axes>"
      ]
     },
     "metadata": {},
     "output_type": "display_data"
    }
   ],
   "source": [
    "sns.heatmap(df[['energy_level','friendliness','trainability','shedding','barking','lifespan']].corr(), annot=True, cmap='coolwarm')"
   ]
  },
  {
   "cell_type": "markdown",
   "id": "1a954ad1-ef4e-4745-96a2-66c45c6b1759",
   "metadata": {},
   "source": [
    "___"
   ]
  },
  {
   "cell_type": "markdown",
   "id": "1a5bb373-fc05-47bf-bd08-2ae122392807",
   "metadata": {},
   "source": [
    "**J.** Plot a boxplot comparing barking levels across different sizes."
   ]
  },
  {
   "cell_type": "code",
   "execution_count": 57,
   "id": "6bad5f5e-cf8d-45be-b80c-9655fd1b607a",
   "metadata": {},
   "outputs": [
    {
     "data": {
      "image/png": "[encoded data removed]",
      "text/plain": [
       "<Figure size 640x480 with 1 Axes>"
      ]
     },
     "metadata": {},
     "output_type": "display_data"
    }
   ],
   "source": [
    "sns.boxplot(x='size',y='barking', data=df)\n",
    "plt.title('Comparing barking levels across different sizes')\n",
    "plt.show()"
   ]
  },
  {
   "cell_type": "markdown",
   "id": "456f21fe-ae01-40bb-8cc3-298bb4d333be",
   "metadata": {},
   "source": [
    "*Small dogs are generally more variable and possibly noisier, while large dogs tend to have more consistent, moderate barking levels, with the occasional outlier.*"
   ]
  },
  {
   "cell_type": "markdown",
   "id": "432fddba-897f-48be-a23e-7ccfb5601c61",
   "metadata": {},
   "source": [
    "___"
   ]
  },
  {
   "cell_type": "markdown",
   "id": "72887c0a-3c47-41b0-85f4-8f2246cc86f2",
   "metadata": {},
   "source": [
    "**K.** Plot a scatterplot of trainability vs energy level, color-coded by size."
   ]
  },
  {
   "cell_type": "code",
   "execution_count": 19,
   "id": "04dfbb70-347d-4e7f-bc28-b8722e3c2d57",
   "metadata": {},
   "outputs": [
    {
     "data": {
      "image/png": "[encoded data removed]",
      "text/plain": [
       "<Figure size 640x480 with 1 Axes>"
      ]
     },
     "metadata": {},
     "output_type": "display_data"
    }
   ],
   "source": [
    "sns.scatterplot(x='trainability' , y='energy_level' , data=df, hue='size' )\n",
    "plt.title('Scatterplot of trainability vs energy level')\n",
    "plt.show()"
   ]
  },
  {
   "cell_type": "markdown",
   "id": "f79c8ea7-3596-4aa6-bd22-c629d7e50180",
   "metadata": {},
   "source": [
    "___"
   ]
  },
  {
   "cell_type": "markdown",
   "id": "eaf77d2f-79ec-41a0-be9f-b7e0e2aa2897",
   "metadata": {},
   "source": [
    "#"
   ]
  },
  {
   "cell_type": "markdown",
   "id": "57fa7d3d-5da7-4b60-a2e7-88be1f0b9391",
   "metadata": {},
   "source": [
    "# **5) Combining logic :-** "
   ]
  },
  {
   "cell_type": "markdown",
   "id": "af6cf643-8f9e-4a8e-b040-615a7edf3c88",
   "metadata": {},
   "source": [
    "**L.** Find all breeds that are both highly friendly (≥4) and low shedding (≤2). "
   ]
  },
  {
   "cell_type": "code",
   "execution_count": 22,
   "id": "6076a6d8-f034-4239-a1bc-98c2e2d37c8b",
   "metadata": {},
   "outputs": [
    {
     "data": {
      "text/plain": [
       "4                 Poodle (Standard)\n",
       "5                           Bulldog\n",
       "9                          Shih Tzu\n",
       "11    Cavalier King Charles Spaniel\n",
       "17                Yorkshire Terrier\n",
       "19                          Maltese\n",
       "Name: breed, dtype: object"
      ]
     },
     "execution_count": 22,
     "metadata": {},
     "output_type": "execute_result"
    }
   ],
   "source": [
    "df['breed'].get(df['friendliness']>=4).get(df['shedding']<=2)"
   ]
  },
  {
   "cell_type": "markdown",
   "id": "09a3999e-7fb7-499f-a251-47fddae4bd90",
   "metadata": {},
   "source": [
    "*Breeds that are both highly friendly (≥4) and low shedding (≤2) are- **Poodle (Standard)** , **Bulldog** , **Shih Tzu** , **Cavalier King Charles Spaniel** , **Yorkshire Terrier** , **Maltese** .*"
   ]
  },
  {
   "cell_type": "markdown",
   "id": "6f6d65df-8e3a-4ca5-b3fa-433aa7d53158",
   "metadata": {},
   "source": [
    "___"
   ]
  },
  {
   "cell_type": "markdown",
   "id": "4c4b4f10-6c50-4c42-bcdf-5307914d0868",
   "metadata": {},
   "source": [
    "**M.** Find the most trainable breeds from non-sporting group."
   ]
  },
  {
   "cell_type": "code",
   "execution_count": 43,
   "id": "763044b3-b233-4334-8ef7-8bb46ec58a8a",
   "metadata": {},
   "outputs": [
    {
     "data": {
      "text/html": [
       "<div>\n",
       "<style scoped>\n",
       "    .dataframe tbody tr th:only-of-type {\n",
       "        vertical-align: middle;\n",
       "    }\n",
       "\n",
       "    .dataframe tbody tr th {\n",
       "        vertical-align: top;\n",
       "    }\n",
       "\n",
       "    .dataframe thead th {\n",
       "        text-align: right;\n",
       "    }\n",
       "</style>\n",
       "<table border=\"1\" class=\"dataframe\">\n",
       "  <thead>\n",
       "    <tr style=\"text-align: right;\">\n",
       "      <th></th>\n",
       "      <th>breed</th>\n",
       "      <th>trainability</th>\n",
       "    </tr>\n",
       "  </thead>\n",
       "  <tbody>\n",
       "    <tr>\n",
       "      <th>4</th>\n",
       "      <td>Poodle (Standard)</td>\n",
       "      <td>5</td>\n",
       "    </tr>\n",
       "  </tbody>\n",
       "</table>\n",
       "</div>"
      ],
      "text/plain": [
       "               breed  trainability\n",
       "4  Poodle (Standard)             5"
      ]
     },
     "execution_count": 43,
     "metadata": {},
     "output_type": "execute_result"
    }
   ],
   "source": [
    "df[['breed','trainability']].get(df['breed_group']=='non-sporting').sort_values(by='trainability',ascending=False).head(1)"
   ]
  },
  {
   "cell_type": "markdown",
   "id": "d867ae51-b75e-45d1-a586-0867064c258a",
   "metadata": {},
   "source": [
    "***Poodle(standard)** is the most trainable breeds from non-sporting group.*"
   ]
  },
  {
   "cell_type": "markdown",
   "id": "7bce32d9-2f03-47f6-b994-3fe65b0b4380",
   "metadata": {},
   "source": [
    "___"
   ]
  },
  {
   "cell_type": "markdown",
   "id": "54873c17-1d6b-47e3-8950-5e05b1650f51",
   "metadata": {},
   "source": [
    "**N.** Create a column family_friendly_score as: friendliness + trainability - barking. Then sort top 5 breeds."
   ]
  },
  {
   "cell_type": "code",
   "execution_count": 55,
   "id": "57c89e60-7ae3-4f4d-8cc2-0bc8e2540723",
   "metadata": {},
   "outputs": [
    {
     "data": {
      "text/html": [
       "<div>\n",
       "<style scoped>\n",
       "    .dataframe tbody tr th:only-of-type {\n",
       "        vertical-align: middle;\n",
       "    }\n",
       "\n",
       "    .dataframe tbody tr th {\n",
       "        vertical-align: top;\n",
       "    }\n",
       "\n",
       "    .dataframe thead th {\n",
       "        text-align: right;\n",
       "    }\n",
       "</style>\n",
       "<table border=\"1\" class=\"dataframe\">\n",
       "  <thead>\n",
       "    <tr style=\"text-align: right;\">\n",
       "      <th></th>\n",
       "      <th>breed</th>\n",
       "      <th>family_freindly_score</th>\n",
       "    </tr>\n",
       "  </thead>\n",
       "  <tbody>\n",
       "    <tr>\n",
       "      <th>4</th>\n",
       "      <td>Poodle (Standard)</td>\n",
       "      <td>8</td>\n",
       "    </tr>\n",
       "    <tr>\n",
       "      <th>0</th>\n",
       "      <td>Labrador Retriever</td>\n",
       "      <td>7</td>\n",
       "    </tr>\n",
       "    <tr>\n",
       "      <th>6</th>\n",
       "      <td>Golden Retriever</td>\n",
       "      <td>7</td>\n",
       "    </tr>\n",
       "    <tr>\n",
       "      <th>11</th>\n",
       "      <td>Cavalier King Charles Spaniel</td>\n",
       "      <td>7</td>\n",
       "    </tr>\n",
       "    <tr>\n",
       "      <th>19</th>\n",
       "      <td>Maltese</td>\n",
       "      <td>7</td>\n",
       "    </tr>\n",
       "  </tbody>\n",
       "</table>\n",
       "</div>"
      ],
      "text/plain": [
       "                            breed  family_freindly_score\n",
       "4               Poodle (Standard)                      8\n",
       "0              Labrador Retriever                      7\n",
       "6                Golden Retriever                      7\n",
       "11  Cavalier King Charles Spaniel                      7\n",
       "19                        Maltese                      7"
      ]
     },
     "execution_count": 55,
     "metadata": {},
     "output_type": "execute_result"
    }
   ],
   "source": [
    "df['family_freindly_score']= df['friendliness']+df['trainability'] - df['barking']\n",
    "df[['breed', 'family_freindly_score']].sort_values(by='family_freindly_score',ascending=False).head(5)"
   ]
  },
  {
   "cell_type": "markdown",
   "id": "09010f37-4877-4c5b-9389-d358a269efb9",
   "metadata": {},
   "source": [
    "___"
   ]
  },
  {
   "cell_type": "markdown",
   "id": "1d9bac20-4d68-4d7a-94aa-d0a15ff0eecd",
   "metadata": {},
   "source": [
    "**O.** Find the correlation between trainability and lifespan."
   ]
  },
  {
   "cell_type": "code",
   "execution_count": 58,
   "id": "a2d48d03-afd0-4b9d-be12-fa6019ddf979",
   "metadata": {},
   "outputs": [
    {
     "data": {
      "text/plain": [
       "np.float64(-0.06831901744448704)"
      ]
     },
     "execution_count": 58,
     "metadata": {},
     "output_type": "execute_result"
    }
   ],
   "source": [
    "df['trainability'].corr(df['lifespan'])"
   ]
  },
  {
   "cell_type": "markdown",
   "id": "c83e83b0-e6a2-45d4-bf69-d0f0a90431d0",
   "metadata": {},
   "source": [
    "*The correlation between trainability and lifespan is **-0.06831901744448704** .*"
   ]
  },
  {
   "cell_type": "markdown",
   "id": "8f2dcecd-b833-4eea-ad1c-3b6f2dea62f4",
   "metadata": {},
   "source": [
    "___"
   ]
  },
  {
   "cell_type": "markdown",
   "id": "1a721a26-330e-41a7-a146-233149c13b8f",
   "metadata": {},
   "source": [
    "**P.** Create a total_score for each breed. Formula: friendliness + trainability + energy_level – barking."
   ]
  },
  {
   "cell_type": "code",
   "execution_count": 35,
   "id": "8c199e01-d838-4456-b994-5f60b98ee201",
   "metadata": {},
   "outputs": [
    {
     "data": {
      "text/html": [
       "<div>\n",
       "<style scoped>\n",
       "    .dataframe tbody tr th:only-of-type {\n",
       "        vertical-align: middle;\n",
       "    }\n",
       "\n",
       "    .dataframe tbody tr th {\n",
       "        vertical-align: top;\n",
       "    }\n",
       "\n",
       "    .dataframe thead th {\n",
       "        text-align: right;\n",
       "    }\n",
       "</style>\n",
       "<table border=\"1\" class=\"dataframe\">\n",
       "  <thead>\n",
       "    <tr style=\"text-align: right;\">\n",
       "      <th></th>\n",
       "      <th>breed</th>\n",
       "      <th>size</th>\n",
       "      <th>energy_level</th>\n",
       "      <th>friendliness</th>\n",
       "      <th>trainability</th>\n",
       "      <th>shedding</th>\n",
       "      <th>barking</th>\n",
       "      <th>lifespan</th>\n",
       "      <th>origin_country</th>\n",
       "      <th>breed_group</th>\n",
       "      <th>apartment_friendly</th>\n",
       "      <th>total_score</th>\n",
       "      <th>score_label</th>\n",
       "    </tr>\n",
       "  </thead>\n",
       "  <tbody>\n",
       "    <tr>\n",
       "      <th>0</th>\n",
       "      <td>Labrador Retriever</td>\n",
       "      <td>large</td>\n",
       "      <td>5</td>\n",
       "      <td>5</td>\n",
       "      <td>5</td>\n",
       "      <td>3</td>\n",
       "      <td>3</td>\n",
       "      <td>12</td>\n",
       "      <td>Canada</td>\n",
       "      <td>sporting</td>\n",
       "      <td>False</td>\n",
       "      <td>12</td>\n",
       "      <td>Medium</td>\n",
       "    </tr>\n",
       "    <tr>\n",
       "      <th>1</th>\n",
       "      <td>Chihuahua</td>\n",
       "      <td>small</td>\n",
       "      <td>4</td>\n",
       "      <td>3</td>\n",
       "      <td>2</td>\n",
       "      <td>2</td>\n",
       "      <td>5</td>\n",
       "      <td>14</td>\n",
       "      <td>Mexico</td>\n",
       "      <td>toy</td>\n",
       "      <td>False</td>\n",
       "      <td>4</td>\n",
       "      <td>Low</td>\n",
       "    </tr>\n",
       "  </tbody>\n",
       "</table>\n",
       "</div>"
      ],
      "text/plain": [
       "                breed   size  energy_level  friendliness  trainability  \\\n",
       "0  Labrador Retriever  large             5             5             5   \n",
       "1           Chihuahua  small             4             3             2   \n",
       "\n",
       "   shedding  barking  lifespan origin_country breed_group  apartment_friendly  \\\n",
       "0         3        3        12         Canada    sporting               False   \n",
       "1         2        5        14         Mexico         toy               False   \n",
       "\n",
       "   total_score score_label  \n",
       "0           12      Medium  \n",
       "1            4         Low  "
      ]
     },
     "execution_count": 35,
     "metadata": {},
     "output_type": "execute_result"
    }
   ],
   "source": [
    "df['total_score']=df['friendliness']+ df['trainability'] + df['energy_level'] - df['barking'] \n",
    "df.head(2)"
   ]
  },
  {
   "cell_type": "markdown",
   "id": "82f8ad4f-0fa9-48da-9c54-d0c59d78e878",
   "metadata": {},
   "source": [
    "___"
   ]
  },
  {
   "cell_type": "markdown",
   "id": "c5a8bc91-0ae1-4a63-98eb-9058de836657",
   "metadata": {},
   "source": [
    "**Q.** Which origin country produces the most high-trainability dogs (score ≥ 4)."
   ]
  },
  {
   "cell_type": "code",
   "execution_count": 70,
   "id": "7eba085a-db6e-47b6-80db-ca026f114119",
   "metadata": {},
   "outputs": [
    {
     "data": {
      "text/plain": [
       "origin_country\n",
       "Germany           4\n",
       "Scotland          2\n",
       "England           2\n",
       "Canada            1\n",
       "Germany/France    1\n",
       "Malta             1\n",
       "Name: count, dtype: int64"
      ]
     },
     "execution_count": 70,
     "metadata": {},
     "output_type": "execute_result"
    }
   ],
   "source": [
    "df[df['trainability']>=4]['origin_country'].value_counts()"
   ]
  },
  {
   "cell_type": "markdown",
   "id": "2f2fb3fd-886c-4d64-aaf6-802fe44cfd38",
   "metadata": {},
   "source": [
    "***Germany** produces the most high-trainability dogs (score ≥ 4).*"
   ]
  },
  {
   "cell_type": "markdown",
   "id": "f462db94-b6f1-43b4-89cf-12c9cc3f859d",
   "metadata": {},
   "source": [
    "___"
   ]
  },
  {
   "cell_type": "markdown",
   "id": "63df293e-9083-4171-8f15-40a264b4860f",
   "metadata": {},
   "source": [
    "**R.** Plot: Average trait scores (friendliness, trainability, energy) for each size."
   ]
  },
  {
   "cell_type": "code",
   "execution_count": 20,
   "id": "368eed10-495f-4d59-99e8-5b0c5165f9ff",
   "metadata": {},
   "outputs": [
    {
     "data": {
      "text/plain": [
       "Text(0.5, 1.0, 'Average trait scores (friendliness, trainability, energy) for each size')"
      ]
     },
     "execution_count": 20,
     "metadata": {},
     "output_type": "execute_result"
    },
    {
     "data": {
      "image/png": "[encoded data removed]",
      "text/plain": [
       "<Figure size 640x480 with 1 Axes>"
      ]
     },
     "metadata": {},
     "output_type": "display_data"
    }
   ],
   "source": [
    "traits=['friendliness', 'trainability', 'energy_level']\n",
    "df.groupby('size')[traits].mean().plot(kind='bar',color=['brown','orange','lightblue'])\n",
    "plt.title('Average trait scores (friendliness, trainability, energy) for each size')"
   ]
  },
  {
   "cell_type": "markdown",
   "id": "54617cdb-a08b-4967-bcc9-a3e42fa695fd",
   "metadata": {},
   "source": [
    "___"
   ]
  },
  {
   "cell_type": "markdown",
   "id": "fb1d8172-df51-4c71-b65a-4f7db82453f2",
   "metadata": {},
   "source": [
    "**S.** Create a column apartment_friendly. Dogs that are: size = small or medium, barking ≤ 3 and energy_level ≤ 4. "
   ]
  },
  {
   "cell_type": "code",
   "execution_count": 24,
   "id": "499e4abe-1683-4601-8968-405965afde70",
   "metadata": {},
   "outputs": [
    {
     "data": {
      "text/html": [
       "<div>\n",
       "<style scoped>\n",
       "    .dataframe tbody tr th:only-of-type {\n",
       "        vertical-align: middle;\n",
       "    }\n",
       "\n",
       "    .dataframe tbody tr th {\n",
       "        vertical-align: top;\n",
       "    }\n",
       "\n",
       "    .dataframe thead th {\n",
       "        text-align: right;\n",
       "    }\n",
       "</style>\n",
       "<table border=\"1\" class=\"dataframe\">\n",
       "  <thead>\n",
       "    <tr style=\"text-align: right;\">\n",
       "      <th></th>\n",
       "      <th>breed</th>\n",
       "      <th>size</th>\n",
       "      <th>energy_level</th>\n",
       "      <th>friendliness</th>\n",
       "      <th>trainability</th>\n",
       "      <th>shedding</th>\n",
       "      <th>barking</th>\n",
       "      <th>lifespan</th>\n",
       "      <th>origin_country</th>\n",
       "      <th>breed_group</th>\n",
       "      <th>apartment_friendly</th>\n",
       "      <th>total_score</th>\n",
       "    </tr>\n",
       "  </thead>\n",
       "  <tbody>\n",
       "    <tr>\n",
       "      <th>0</th>\n",
       "      <td>Labrador Retriever</td>\n",
       "      <td>large</td>\n",
       "      <td>5</td>\n",
       "      <td>5</td>\n",
       "      <td>5</td>\n",
       "      <td>3</td>\n",
       "      <td>3</td>\n",
       "      <td>12</td>\n",
       "      <td>Canada</td>\n",
       "      <td>sporting</td>\n",
       "      <td>False</td>\n",
       "      <td>12</td>\n",
       "    </tr>\n",
       "    <tr>\n",
       "      <th>1</th>\n",
       "      <td>Chihuahua</td>\n",
       "      <td>small</td>\n",
       "      <td>4</td>\n",
       "      <td>3</td>\n",
       "      <td>2</td>\n",
       "      <td>2</td>\n",
       "      <td>5</td>\n",
       "      <td>14</td>\n",
       "      <td>Mexico</td>\n",
       "      <td>toy</td>\n",
       "      <td>False</td>\n",
       "      <td>4</td>\n",
       "    </tr>\n",
       "  </tbody>\n",
       "</table>\n",
       "</div>"
      ],
      "text/plain": [
       "                breed   size  energy_level  friendliness  trainability  \\\n",
       "0  Labrador Retriever  large             5             5             5   \n",
       "1           Chihuahua  small             4             3             2   \n",
       "\n",
       "   shedding  barking  lifespan origin_country breed_group  apartment_friendly  \\\n",
       "0         3        3        12         Canada    sporting               False   \n",
       "1         2        5        14         Mexico         toy               False   \n",
       "\n",
       "   total_score  \n",
       "0           12  \n",
       "1            4  "
      ]
     },
     "execution_count": 24,
     "metadata": {},
     "output_type": "execute_result"
    }
   ],
   "source": [
    "df['apartment_friendly']= ((df['size']!='large') & (df['barking']<=3) & (df['energy_level']<=4))\n",
    "df.head(2)"
   ]
  },
  {
   "cell_type": "markdown",
   "id": "43a3dcb9-5812-448b-9583-c5cb97e08772",
   "metadata": {},
   "source": [
    "___"
   ]
  },
  {
   "cell_type": "markdown",
   "id": "8648f6b3-5dfb-4134-b463-556de41d76e7",
   "metadata": {},
   "source": [
    "**T.** Which breed group has the most “balanced” breeds? Balanced = all 3 traits (friendliness, energy, trainability) between 3 and 4 inclusive."
   ]
  },
  {
   "cell_type": "code",
   "execution_count": 30,
   "id": "d35dfd96-4566-4341-8d65-e587e2d74ece",
   "metadata": {},
   "outputs": [
    {
     "data": {
      "text/plain": [
       "breed_group\n",
       "toy        2\n",
       "hound      1\n",
       "working    1\n",
       "Name: count, dtype: int64"
      ]
     },
     "execution_count": 30,
     "metadata": {},
     "output_type": "execute_result"
    }
   ],
   "source": [
    "balanced= df[ (df['friendliness'].between(3,4)) & (df['energy_level'].between(3,4)) & (df['trainability'].between(3,4))]\n",
    "balanced['breed_group'].value_counts()"
   ]
  },
  {
   "cell_type": "markdown",
   "id": "53cba547-fc63-414a-aa71-fdd7e4fefd6e",
   "metadata": {},
   "source": [
    "***Toy** has the most balanced breeds.*"
   ]
  },
  {
   "cell_type": "markdown",
   "id": "8bdeb914-a249-47b9-b0eb-c3b8d8ebf98b",
   "metadata": {},
   "source": [
    "___"
   ]
  },
  {
   "cell_type": "markdown",
   "id": "0df27766-5d8a-4f1f-98ab-0e6d0ab4ee59",
   "metadata": {},
   "source": [
    "**U.** Cluster breeds manually by score ranges (Low, Medium, High) for total_score."
   ]
  },
  {
   "cell_type": "code",
   "execution_count": 37,
   "id": "a99de824-0d36-4613-bb6d-f397e52cd953",
   "metadata": {},
   "outputs": [
    {
     "data": {
      "text/plain": [
       "score_label\n",
       "Medium    8\n",
       "Low       7\n",
       "High      5\n",
       "Name: count, dtype: int64"
      ]
     },
     "execution_count": 37,
     "metadata": {},
     "output_type": "execute_result"
    }
   ],
   "source": [
    "def score(x):\n",
    "    if x>=11:return 'High'\n",
    "    if x>=8:return 'Medium'\n",
    "    else:return 'Low'\n",
    "\n",
    "df['score_label']=df['total_score'].apply(score)\n",
    "df['score_label'].value_counts()"
   ]
  },
  {
   "cell_type": "markdown",
   "id": "398a46d7-f850-47b9-a88c-416095034334",
   "metadata": {},
   "source": [
    "___"
   ]
  },
  {
   "cell_type": "markdown",
   "id": "42272f66-e7f1-45b2-ab0f-21143c945516",
   "metadata": {},
   "source": [
    "#"
   ]
  },
  {
   "cell_type": "markdown",
   "id": "19dc6498-c7a4-4cef-bcc6-135f6b092077",
   "metadata": {},
   "source": [
    "# ***INSIGHTS :-***"
   ]
  },
  {
   "cell_type": "markdown",
   "id": "fffb8aa1-eab1-4649-b963-23af6936e2bd",
   "metadata": {},
   "source": [
    "1. There are **20** unique breed groups and **3** unique sizes in the dataset.\n",
    "2. The average lifeapan of all breeds combined is **12.1** .\n",
    "3. **Sporting** breed group has the highest average friendliness score of 5.\n",
    "4. The average energy level for each large breed size is- 4.375, for medium it's-3.200 and 3.000 is for small.\n",
    "5. **Germany** has the most number of breeds in this dataset, that is 6.\n",
    "6. The top 3 breeds with longest lifespan are- **Maltese, Chihuahua and Poodle(standard)** .\n",
    "7. **Poodle(standard)** is the only breed with trainability score 5 and shedding <=2.\n",
    "8. **Toy** has the highest average lifespan, followed by Hound .\n",
    "9. Small dogs are generally more variable and possibly noisier, while large dogs tend to have more consistent, moderate barking levels, with the occasional outlier.\n",
    "10. **Poodle(standard)** is the most trainable breeds from non-sporting group.\n",
    "11. The correlation between trainability and lifespan is **-0.06831901744448704**  .\n",
    "12. **Germany** produces the most high-trainability dogs (score ≥ 4).\n",
    "13. **Toy** has the most balanced breeds."
   ]
  },
  {
   "cell_type": "markdown",
   "id": "e3514e81-3907-416d-b60e-06e865da220b",
   "metadata": {},
   "source": [
    "___"
   ]
  },
  {
   "cell_type": "code",
   "execution_count": 6,
   "id": "65f6c2f7-f9e2-418d-9c9c-8078fdd7b091",
   "metadata": {},
   "outputs": [
    {
     "name": "stdout",
     "output_type": "stream",
     "text": [
      "Collecting openpyxl\n",
      "  Downloading openpyxl-3.1.5-py2.py3-none-any.whl.metadata (2.5 kB)\n",
      "Collecting et-xmlfile (from openpyxl)\n",
      "  Downloading et_xmlfile-2.0.0-py3-none-any.whl.metadata (2.7 kB)\n",
      "Downloading openpyxl-3.1.5-py2.py3-none-any.whl (250 kB)\n",
      "Downloading et_xmlfile-2.0.0-py3-none-any.whl (18 kB)\n",
      "Installing collected packages: et-xmlfile, openpyxl\n",
      "Successfully installed et-xmlfile-2.0.0 openpyxl-3.1.5\n"
     ]
    }
   ],
   "source": [
    "!pip install openpyxl\n"
   ]
  },
  {
   "cell_type": "code",
   "execution_count": 16,
   "id": "e43670c2-628f-46e7-bc96-ad484f5c7edc",
   "metadata": {},
   "outputs": [],
   "source": [
    "df.to_excel(\"C:/Users/Pavilion/OneDrive/Documents/dogs_data_cleaned.xlsx\", index=False)\n"
   ]
  }
 ],
 "metadata": {
  "kernelspec": {
   "display_name": "Python 3 (ipykernel)",
   "language": "python",
   "name": "python3"
  },
  "language_info": {
   "codemirror_mode": {
    "name": "ipython",
    "version": 3
   },
   "file_extension": ".py",
   "mimetype": "text/x-python",
   "name": "python",
   "nbconvert_exporter": "python",
   "pygments_lexer": "ipython3",
   "version": "3.12.5"
  }
 },
 "nbformat": 4,
 "nbformat_minor": 5
}
